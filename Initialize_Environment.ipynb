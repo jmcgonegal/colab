{
  "nbformat": 4,
  "nbformat_minor": 0,
  "metadata": {
    "colab": {
      "name": "Initialize Environment.ipynb",
      "version": "0.3.2",
      "provenance": [],
      "include_colab_link": true
    },
    "kernelspec": {
      "name": "python3",
      "display_name": "Python 3"
    }
  },
  "cells": [
    {
      "cell_type": "markdown",
      "metadata": {
        "id": "view-in-github",
        "colab_type": "text"
      },
      "source": [
        "<a href=\"https://colab.research.google.com/github/jmcgonegal/colab/blob/master/Initialize_Environment.ipynb\" target=\"_parent\"><img src=\"https://colab.research.google.com/assets/colab-badge.svg\" alt=\"Open In Colab\"/></a>"
      ]
    },
    {
      "metadata": {
        "id": "drp3SrCScVrB",
        "colab_type": "code",
        "colab": {}
      },
      "cell_type": "code",
      "source": [
        "# Initialize\n",
        "from google.colab import auth\n",
        "auth.authenticate_user()"
      ],
      "execution_count": 0,
      "outputs": []
    },
    {
      "metadata": {
        "id": "62jla843cZTX",
        "colab_type": "code",
        "colab": {
          "base_uri": "https://localhost:8080/",
          "height": 34
        },
        "outputId": "9c00539f-bc32-4564-dde2-3de185cb5148"
      },
      "cell_type": "code",
      "source": [
        "# Test\n",
        "import tensorflow as tf\n",
        "BUCKET = 'fly-me-dev-ai' #@param {type:\"string\"}\n",
        "\n",
        "# if hanging here, you dont have permission to the bucket\n",
        "output = tf.gfile.ListDirectory('gs://{}'.format(BUCKET))\n",
        "\n",
        "# if we have one result, everything worked\n",
        "if len(output) > 0:\n",
        "  print('Success')\n",
        "else:\n",
        "  print('Failure')\n"
      ],
      "execution_count": 9,
      "outputs": [
        {
          "output_type": "stream",
          "text": [
            "Success\n"
          ],
          "name": "stdout"
        }
      ]
    }
  ]
}