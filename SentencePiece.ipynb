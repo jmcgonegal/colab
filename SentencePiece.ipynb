{
  "nbformat": 4,
  "nbformat_minor": 0,
  "metadata": {
    "colab": {
      "name": "SentencePiece.ipynb",
      "version": "0.3.2",
      "provenance": [],
      "collapsed_sections": [],
      "include_colab_link": true
    },
    "kernelspec": {
      "name": "python3",
      "display_name": "Python 3"
    }
  },
  "cells": [
    {
      "cell_type": "markdown",
      "metadata": {
        "id": "view-in-github",
        "colab_type": "text"
      },
      "source": [
        "<a href=\"https://colab.research.google.com/github/jmcgonegal/colab/blob/master/SentencePiece.ipynb\" target=\"_parent\"><img src=\"https://colab.research.google.com/assets/colab-badge.svg\" alt=\"Open In Colab\"/></a>"
      ]
    },
    {
      "metadata": {
        "id": "8HIAFC3qB-gQ",
        "colab_type": "code",
        "colab": {
          "base_uri": "https://localhost:8080/",
          "height": 238
        },
        "outputId": "0e52903c-8117-4bfd-fef1-76ce205f9dd3"
      },
      "cell_type": "code",
      "source": [
        "#@title Model\n",
        "model_name = \"m\" #@param {type:\"string\"}\n",
        "!pip install sentencepiece\n",
        "# this is actually a crappy file as an example, but it works\n",
        "!wget https://raw.githubusercontent.com/jmcgonegal/colab/master/wiki-machines.txt\n",
        "  \n",
        "import sentencepiece as spm\n",
        "\n",
        "spm.SentencePieceTrainer.Train('--input=wiki-machines.txt --model_prefix={} --vocab_size=1000'.format(model_name))"
      ],
      "execution_count": 29,
      "outputs": [
        {
          "output_type": "stream",
          "text": [
            "Requirement already satisfied: sentencepiece in /usr/local/lib/python3.6/dist-packages (0.1.6)\n",
            "--2018-12-05 17:17:28--  https://raw.githubusercontent.com/jmcgonegal/colab/master/wiki-machines.txt\n",
            "Resolving raw.githubusercontent.com (raw.githubusercontent.com)... 151.101.0.133, 151.101.64.133, 151.101.128.133, ...\n",
            "Connecting to raw.githubusercontent.com (raw.githubusercontent.com)|151.101.0.133|:443... connected.\n",
            "HTTP request sent, awaiting response... 200 OK\n",
            "Length: 93665 (91K) [text/plain]\n",
            "Saving to: ‘wiki-machines.txt.1’\n",
            "\n",
            "wiki-machines.txt.1 100%[===================>]  91.47K  --.-KB/s    in 0.01s   \n",
            "\n",
            "2018-12-05 17:17:28 (5.97 MB/s) - ‘wiki-machines.txt.1’ saved [93665/93665]\n",
            "\n"
          ],
          "name": "stdout"
        },
        {
          "output_type": "execute_result",
          "data": {
            "text/plain": [
              "True"
            ]
          },
          "metadata": {
            "tags": []
          },
          "execution_count": 29
        }
      ]
    },
    {
      "metadata": {
        "id": "tp7TFwpqCYEb",
        "colab_type": "code",
        "colab": {
          "base_uri": "https://localhost:8080/",
          "height": 34
        },
        "outputId": "40107e57-451f-4b05-ecd0-4bb4a25645c5"
      },
      "cell_type": "code",
      "source": [
        "sp = spm.SentencePieceProcessor()\n",
        "sp.Load('{}.model'.format(model_name))\n",
        "sp.EncodeAsPieces('This is a test')"
      ],
      "execution_count": 31,
      "outputs": [
        {
          "output_type": "execute_result",
          "data": {
            "text/plain": [
              "['▁', 'T', 'h', 'is', '▁', 'is', '▁a', '▁', 't', 'est']"
            ]
          },
          "metadata": {
            "tags": []
          },
          "execution_count": 31
        }
      ]
    },
    {
      "metadata": {
        "id": "zo3J-Zy0CFJH",
        "colab_type": "code",
        "colab": {
          "base_uri": "https://localhost:8080/",
          "height": 34
        },
        "outputId": "2730ccfc-bf5b-438e-b83d-7137372bc19a"
      },
      "cell_type": "code",
      "source": [
        "!ls\n",
        "from google.colab import files\n",
        "# todo, zip then make one download\n",
        "files.download('{}.model'.format(model_name))\n",
        "files.download('{}.vocab'.format(model_name))"
      ],
      "execution_count": 3,
      "outputs": [
        {
          "output_type": "stream",
          "text": [
            "m.model  m.vocab  sample_data  sentencepiece  wiki-machines.txt\n"
          ],
          "name": "stdout"
        }
      ]
    },
    {
      "metadata": {
        "id": "YQGYvN0yHHb3",
        "colab_type": "text"
      },
      "cell_type": "markdown",
      "source": [
        "# Sampling API\n",
        "When `nbest_size` is positive value, approximately samples one segmentation\n",
        "from nbest candidates.\n",
        "\n",
        "When `nbest_size` is negative value, samples one segmentation from\n",
        "the hypotheses (Lattice) according to the generation probabilities using\n",
        "forward-filtering and backward-sampling algorithm.\n",
        "\n",
        "`alpha` is a smoothing parameter.  The best segmentation\n",
        "(Viterbi segmentation) is more likely sampled when setting larger\n",
        "alpha. When alpha is 0.0, one segmentation is uniformly sampled from the\n",
        "nbest or lattice.\n",
        "\n",
        "`nbest_size` and `alpha` correspond to parameters `l` and `alpha`\n",
        "in https://arxiv.org/abs/1804.10959  (nbest_size < 0 means l = infinity)"
      ]
    },
    {
      "metadata": {
        "id": "BFMSyOV0FSmT",
        "colab_type": "code",
        "colab": {
          "base_uri": "https://localhost:8080/",
          "height": 275
        },
        "outputId": "8806ed3b-1764-45ca-baba-dc77d5123cfd"
      },
      "cell_type": "code",
      "source": [
        "#@title Default title text\n",
        "text = \"the environmental pursuit is valuable to all peoples\" #@param {type:\"string\"}\n",
        "sample = 10 #@param {type:\"integer\"}\n",
        "nbest_size = -1 #@param {type:\"number\"}\n",
        "alpha = 0.1 #@param {type:\"number\"}\n",
        "\n",
        "# base\n",
        "print(sp.EncodeAsPieces(text))\n",
        "# other possibilities\n",
        "print()\n",
        "print(sp.NBestEncodeAsPieces(text, 5))\n",
        "print()\n",
        "for x in range(sample):\n",
        "  print(sp.SampleEncodeAsPieces(text, nbest_size, 0.1))\n"
      ],
      "execution_count": 28,
      "outputs": [
        {
          "output_type": "stream",
          "text": [
            "['▁the', '▁environment', 'al', '▁pursu', 'it', '▁', 'is', '▁', 'va', 'lu', 'able', '▁to', '▁', 'al', 'l', '▁people', 's']\n",
            "\n",
            "[['▁the', '▁environment', 'al', '▁pursu', 'it', '▁', 'is', '▁', 'va', 'lu', 'able', '▁to', '▁', 'al', 'l', '▁people', 's'], ['▁the', '▁environment', 'al', '▁pursu', 'it', '▁', 'i', 's', '▁', 'va', 'lu', 'able', '▁to', '▁', 'al', 'l', '▁people', 's'], ['▁the', '▁environment', 'al', '▁pursu', 'it', '▁', 'is', '▁', 'v', 'al', 'u', 'able', '▁to', '▁', 'al', 'l', '▁people', 's'], ['▁the', '▁environment', 'al', '▁pursu', 'it', '▁', 'i', 's', '▁', 'v', 'al', 'u', 'able', '▁to', '▁', 'al', 'l', '▁people', 's'], ['▁the', '▁environment', 'al', '▁pursu', 'it', '▁', 'is', '▁', 'va', 'lu', 'able', '▁', 'to', '▁', 'al', 'l', '▁people', 's']]\n",
            "\n",
            "['▁', 't', 'he', '▁environment', 'al', '▁', 'p', 'ur', 's', 'u', 'it', '▁', 'is', '▁', 'v', 'a', 'lu', 'able', '▁', 't', 'o', '▁', 'al', 'l', '▁', 'pe', 'op', 'l', 'e', 's']\n",
            "['▁', 'th', 'e', '▁', 'en', 'v', 'ir', 'on', 'men', 't', 'al', '▁', 'p', 'u', 'r', 's', 'u', 'i', 't', '▁', 'is', '▁', 'va', 'l', 'u', 'ab', 'le', '▁', 't', 'o', '▁', 'al', 'l', '▁people', 's']\n",
            "['▁', 'the', '▁', 'e', 'n', 'v', 'ir', 'on', 'm', 'e', 'nt', 'al', '▁', 'p', 'u', 'r', 's', 'u', 'i', 't', '▁', 'i', 's', '▁', 'va', 'l', 'u', 'a', 'b', 'l', 'e', '▁to', '▁', 'al', 'l', '▁', 'p', 'e', 'o', 'p', 'l', 'es']\n",
            "['▁', 'th', 'e', '▁environment', 'al', '▁pursu', 'i', 't', '▁', 'is', '▁', 'v', 'al', 'u', 'a', 'b', 'l', 'e', '▁', 'to', '▁', 'al', 'l', '▁', 'pe', 'op', 'l', 'es']\n",
            "['▁', 't', 'h', 'e', '▁', 'en', 'vi', 'r', 'o', 'n', 'm', 'en', 'ta', 'l', '▁pursu', 'i', 't', '▁', 'i', 's', '▁', 'v', 'a', 'lu', 'a', 'b', 'l', 'e', '▁', 't', 'o', '▁', 'al', 'l', '▁', 'p', 'e', 'o', 'p', 'le', 's']\n",
            "['▁', 'th', 'e', '▁', 'en', 'v', 'i', 'r', 'on', 'm', 'en', 't', 'a', 'l', '▁pursu', 'it', '▁', 'is', '▁', 'va', 'lu', 'ab', 'l', 'e', '▁', 't', 'o', '▁a', 'l', 'l', '▁', 'p', 'e', 'op', 'le', 's']\n",
            "['▁', 't', 'he', '▁', 'e', 'n', 'v', 'i', 'r', 'o', 'n', 'ment', 'al', '▁', 'p', 'u', 'r', 'su', 'it', '▁', 'is', '▁', 'va', 'l', 'u', 'a', 'b', 'l', 'e', '▁', 'to', '▁a', 'l', 'l', '▁', 'p', 'e', 'op', 'le', 's']\n",
            "['▁the', '▁', 'en', 'v', 'ir', 'on', 'm', 'en', 't', 'al', '▁', 'p', 'ur', 'su', 'it', '▁', 'is', '▁', 'va', 'lu', 'able', '▁', 't', 'o', '▁a', 'l', 'l', '▁', 'p', 'e', 'o', 'p', 'le', 's']\n",
            "['▁the', '▁', 'e', 'n', 'vi', 'r', 'o', 'n', 'm', 'en', 'ta', 'l', '▁', 'p', 'ur', 'su', 'i', 't', '▁', 'is', '▁', 'va', 'lu', 'ab', 'l', 'e', '▁', 'to', '▁', 'a', 'l', 'l', '▁', 'p', 'e', 'op', 'l', 'e', 's']\n",
            "['▁', 'the', '▁', 'en', 'v', 'i', 'r', 'o', 'n', 'm', 'e', 'n', 'ta', 'l', '▁', 'p', 'ur', 'su', 'it', '▁', 'is', '▁', 'v', 'a', 'lu', 'able', '▁', 'to', '▁', 'a', 'l', 'l', '▁people', 's']\n"
          ],
          "name": "stdout"
        }
      ]
    },
    {
      "metadata": {
        "id": "UDdEk7jhGBoS",
        "colab_type": "code",
        "colab": {
          "base_uri": "https://localhost:8080/",
          "height": 34
        },
        "outputId": "5ee44d84-6eef-4a1a-c62f-996a4a43631a"
      },
      "cell_type": "code",
      "source": [
        "sp.IdToPiece(2)"
      ],
      "execution_count": 8,
      "outputs": [
        {
          "output_type": "execute_result",
          "data": {
            "text/plain": [
              "'</s>'"
            ]
          },
          "metadata": {
            "tags": []
          },
          "execution_count": 8
        }
      ]
    },
    {
      "metadata": {
        "id": "NP_iPh5SGELL",
        "colab_type": "code",
        "colab": {
          "base_uri": "https://localhost:8080/",
          "height": 34
        },
        "outputId": "f4cdc081-c1fc-4def-e33b-a19ef89bcc98"
      },
      "cell_type": "code",
      "source": [
        "sp.PieceToId('</s>')"
      ],
      "execution_count": 9,
      "outputs": [
        {
          "output_type": "execute_result",
          "data": {
            "text/plain": [
              "2"
            ]
          },
          "metadata": {
            "tags": []
          },
          "execution_count": 9
        }
      ]
    },
    {
      "metadata": {
        "id": "HVL5zT_YGFeG",
        "colab_type": "code",
        "colab": {
          "base_uri": "https://localhost:8080/",
          "height": 34
        },
        "outputId": "9e0a7142-ae7f-4958-89dd-6982153fcf9f"
      },
      "cell_type": "code",
      "source": [
        "len(sp)"
      ],
      "execution_count": 10,
      "outputs": [
        {
          "output_type": "execute_result",
          "data": {
            "text/plain": [
              "1000"
            ]
          },
          "metadata": {
            "tags": []
          },
          "execution_count": 10
        }
      ]
    },
    {
      "metadata": {
        "id": "hggeP43wGGu9",
        "colab_type": "code",
        "colab": {
          "base_uri": "https://localhost:8080/",
          "height": 34
        },
        "outputId": "9ddfdb9f-0d8c-4a14-88b4-0e46bcfd4778"
      },
      "cell_type": "code",
      "source": [
        "sp['</s>']"
      ],
      "execution_count": 11,
      "outputs": [
        {
          "output_type": "execute_result",
          "data": {
            "text/plain": [
              "2"
            ]
          },
          "metadata": {
            "tags": []
          },
          "execution_count": 11
        }
      ]
    }
  ]
}