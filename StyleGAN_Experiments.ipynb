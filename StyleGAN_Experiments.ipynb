{
  "nbformat": 4,
  "nbformat_minor": 0,
  "metadata": {
    "colab": {
      "name": "StyleGAN Experiments",
      "version": "0.3.2",
      "provenance": [],
      "collapsed_sections": [
        "DnDMeOAUYVfh",
        "nHdZ4MG9YY2q"
      ],
      "toc_visible": true,
      "include_colab_link": true
    },
    "kernelspec": {
      "name": "python3",
      "display_name": "Python 3"
    },
    "accelerator": "GPU"
  },
  "cells": [
    {
      "cell_type": "markdown",
      "metadata": {
        "id": "view-in-github",
        "colab_type": "text"
      },
      "source": [
        "<a href=\"https://colab.research.google.com/github/jmcgonegal/colab/blob/master/StyleGAN_Experiments.ipynb\" target=\"_parent\"><img src=\"https://colab.research.google.com/assets/colab-badge.svg\" alt=\"Open In Colab\"/></a>"
      ]
    },
    {
      "metadata": {
        "id": "NdvCelIOrt72",
        "colab_type": "text"
      },
      "cell_type": "markdown",
      "source": [
        "# StyleGAN"
      ]
    },
    {
      "metadata": {
        "id": "ZpQY6Z0ScLhu",
        "colab_type": "code",
        "colab": {}
      },
      "cell_type": "code",
      "source": [
        "!git clone https://github.com/NVlabs/stylegan.git\n",
        "%cd stylegan"
      ],
      "execution_count": 0,
      "outputs": []
    },
    {
      "metadata": {
        "id": "IBYV1EBmeaiC",
        "colab_type": "code",
        "colab": {}
      },
      "cell_type": "code",
      "source": [
        "import os\n",
        "import pickle\n",
        "import numpy as np\n",
        "import PIL.Image\n",
        "import dnnlib\n",
        "import dnnlib.tflib as tflib\n",
        "import config\n",
        "\n",
        "tflib.init_tf()\n",
        "\n",
        "# Load pre-trained network.\n",
        "url = 'https://drive.google.com/uc?id=1MEGjdvVpUsu1jB4zrXZN7Y4kBBOzizDQ'\n",
        "with dnnlib.util.open_url(url, cache_dir=config.cache_dir) as f:\n",
        "    _G, _D, Gs = pickle.load(f)\n",
        "    # _G = Instantaneous snapshot of the generator. Mainly useful for resuming a previous training run.\n",
        "    # _D = Instantaneous snapshot of the discriminator. Mainly useful for resuming a previous training run.\n",
        "    # Gs = Long-term average of the generator. Yields higher-quality results than the instantaneous snapshot."
      ],
      "execution_count": 0,
      "outputs": []
    },
    {
      "metadata": {
        "id": "YDua3TmKJ3fw",
        "colab_type": "text"
      },
      "cell_type": "markdown",
      "source": [
        "# Random interpolation grid\n",
        "\n",
        "Based on the ProGAN interpolation code\n",
        "https://github.com/tkarras/progressive_growing_of_gans/blob/master/misc.py"
      ]
    },
    {
      "metadata": {
        "id": "ZaaThUoYJ6Zn",
        "colab_type": "code",
        "colab": {}
      },
      "cell_type": "code",
      "source": [
        "import scipy\n",
        "\n",
        "grid_size = [2,2]\n",
        "image_shrink = 1\n",
        "image_zoom = 1\n",
        "duration_sec = 10.0\n",
        "smoothing_sec = 1.0\n",
        "mp4_fps = 60\n",
        "mp4_codec = 'libx264'\n",
        "mp4_bitrate = '16M'\n",
        "random_seed = 404\n",
        "mp4_file = 'random_grid_%s.mp4' % random_seed\n",
        "minibatch_size = 8\n",
        "\n",
        "num_frames = int(np.rint(duration_sec * mp4_fps))\n",
        "random_state = np.random.RandomState(random_seed)\n",
        "\n",
        "# Generate latent vectors\n",
        "shape = [num_frames, np.prod(grid_size)] + Gs.input_shape[1:] # [frame, image, channel, component]\n",
        "all_latents = random_state.randn(*shape).astype(np.float32)\n",
        "all_latents = scipy.ndimage.gaussian_filter(all_latents, [smoothing_sec * mp4_fps] + [0] * len(Gs.input_shape), mode='wrap')\n",
        "all_latents /= np.sqrt(np.mean(np.square(all_latents)))\n",
        "\n",
        "\n",
        "def create_image_grid(images, grid_size=None):\n",
        "    assert images.ndim == 3 or images.ndim == 4\n",
        "    num, img_h, img_w, channels = images.shape\n",
        "\n",
        "    if grid_size is not None:\n",
        "        grid_w, grid_h = tuple(grid_size)\n",
        "    else:\n",
        "        grid_w = max(int(np.ceil(np.sqrt(num))), 1)\n",
        "        grid_h = max((num - 1) // grid_w + 1, 1)\n",
        "\n",
        "    grid = np.zeros([grid_h * img_h, grid_w * img_w, channels], dtype=images.dtype)\n",
        "    for idx in range(num):\n",
        "        x = (idx % grid_w) * img_w\n",
        "        y = (idx // grid_w) * img_h\n",
        "        grid[y : y + img_h, x : x + img_w] = images[idx]\n",
        "    return grid\n",
        "\n",
        "# Frame generation func for moviepy.\n",
        "def make_frame(t):\n",
        "    frame_idx = int(np.clip(np.round(t * mp4_fps), 0, num_frames - 1))\n",
        "    latents = all_latents[frame_idx]\n",
        "    fmt = dict(func=tflib.convert_images_to_uint8, nchw_to_nhwc=True)\n",
        "    images = Gs.run(latents, None, truncation_psi=0.7,\n",
        "                          randomize_noise=False, output_transform=fmt)\n",
        "\n",
        "    grid = create_image_grid(images, grid_size)\n",
        "    if image_zoom > 1:\n",
        "        grid = scipy.ndimage.zoom(grid, [image_zoom, image_zoom, 1], order=0)\n",
        "    if grid.shape[2] == 1:\n",
        "        grid = grid.repeat(3, 2) # grayscale => RGB\n",
        "    return grid\n",
        "\n",
        "# Generate video.\n",
        "import moviepy.editor\n",
        "video_clip = moviepy.editor.VideoClip(make_frame, duration=duration_sec)\n",
        "video_clip.write_videofile(mp4_file, fps=mp4_fps, codec=mp4_codec, bitrate=mp4_bitrate)"
      ],
      "execution_count": 0,
      "outputs": []
    },
    {
      "metadata": {
        "id": "Ph4lh-eZ8Hw8",
        "colab_type": "text"
      },
      "cell_type": "markdown",
      "source": [
        "# Style mixing"
      ]
    },
    {
      "metadata": {
        "id": "EvrdJmhZYcY-",
        "colab_type": "text"
      },
      "cell_type": "markdown",
      "source": [
        "## Coarse"
      ]
    },
    {
      "metadata": {
        "id": "uim75G44jgpK",
        "colab_type": "code",
        "colab": {}
      },
      "cell_type": "code",
      "source": [
        "import scipy\n",
        "\n",
        "duration_sec = 30.0\n",
        "smoothing_sec = 1.0\n",
        "mp4_fps = 40\n",
        "\n",
        "num_frames = int(np.rint(duration_sec * mp4_fps))\n",
        "random_seed = 500\n",
        "random_state = np.random.RandomState(random_seed)\n",
        "\n",
        "\n",
        "w = 512\n",
        "h = 512\n",
        "#src_seeds = [601]\n",
        "dst_seeds = [700]\n",
        "style_ranges = ([0] * 7 + [range(8,16)]) * len(dst_seeds)\n",
        "\n",
        "fmt = dict(func=tflib.convert_images_to_uint8, nchw_to_nhwc=True)\n",
        "synthesis_kwargs = dict(output_transform=fmt, truncation_psi=0.7, minibatch_size=8)\n",
        "\n",
        "shape = [num_frames] + Gs.input_shape[1:] # [frame, image, channel, component]\n",
        "src_latents = random_state.randn(*shape).astype(np.float32)\n",
        "src_latents = scipy.ndimage.gaussian_filter(src_latents,\n",
        "                                            smoothing_sec * mp4_fps,\n",
        "                                            mode='wrap')\n",
        "src_latents /= np.sqrt(np.mean(np.square(src_latents)))\n",
        "\n",
        "dst_latents = np.stack(np.random.RandomState(seed).randn(Gs.input_shape[1]) for seed in dst_seeds)\n",
        "\n",
        "\n",
        "src_dlatents = Gs.components.mapping.run(src_latents, None) # [seed, layer, component]\n",
        "dst_dlatents = Gs.components.mapping.run(dst_latents, None) # [seed, layer, component]\n",
        "src_images = Gs.components.synthesis.run(src_dlatents, randomize_noise=False, **synthesis_kwargs)\n",
        "dst_images = Gs.components.synthesis.run(dst_dlatents, randomize_noise=False, **synthesis_kwargs)\n",
        "\n",
        "\n",
        "canvas = PIL.Image.new('RGB', (w * (len(dst_seeds) + 1), h * 2), 'white')\n",
        "    \n",
        "for col, dst_image in enumerate(list(dst_images)):\n",
        "    canvas.paste(PIL.Image.fromarray(dst_image, 'RGB'), ((col + 1) * h, 0))\n",
        "\n",
        "def make_frame(t):\n",
        "    frame_idx = int(np.clip(np.round(t * mp4_fps), 0, num_frames - 1))\n",
        "    src_image = src_images[frame_idx]\n",
        "    canvas.paste(PIL.Image.fromarray(src_image, 'RGB'), (0, h))\n",
        "    \n",
        "    for col, dst_image in enumerate(list(dst_images)):\n",
        "        col_dlatents = np.stack([dst_dlatents[col]])\n",
        "        col_dlatents[:, style_ranges[col]] = src_dlatents[frame_idx, style_ranges[col]]\n",
        "        col_images = Gs.components.synthesis.run(col_dlatents, randomize_noise=False, **synthesis_kwargs)\n",
        "        for row, image in enumerate(list(col_images)):\n",
        "            canvas.paste(PIL.Image.fromarray(image, 'RGB'), ((col + 1) * h, (row + 1) * w))\n",
        "    return np.array(canvas)\n",
        "    \n",
        "# Generate video.\n",
        "import moviepy.editor\n",
        "mp4_file = '/tmp/output.mp4'\n",
        "mp4_codec = 'libx264'\n",
        "mp4_bitrate = '16M'\n",
        "\n",
        "video_clip = moviepy.editor.VideoClip(make_frame, duration=duration_sec)\n",
        "video_clip.write_videofile(mp4_file, fps=mp4_fps, codec=mp4_codec, bitrate=mp4_bitrate)"
      ],
      "execution_count": 0,
      "outputs": []
    },
    {
      "metadata": {
        "id": "so7RMb9enS7j",
        "colab_type": "text"
      },
      "cell_type": "markdown",
      "source": [
        "## Fine"
      ]
    },
    {
      "metadata": {
        "id": "mSd4uh4jpi0W",
        "colab_type": "code",
        "colab": {}
      },
      "cell_type": "code",
      "source": [
        "import scipy\n",
        "\n",
        "duration_sec = 20.0\n",
        "smoothing_sec = 1.0\n",
        "mp4_fps = 30\n",
        "\n",
        "num_frames = int(np.rint(duration_sec * mp4_fps))\n",
        "random_seed = 503\n",
        "random_state = np.random.RandomState(random_seed)\n",
        "\n",
        "\n",
        "w = 512\n",
        "h = 512\n",
        "style_ranges = [range(6,16)]\n",
        "\n",
        "fmt = dict(func=tflib.convert_images_to_uint8, nchw_to_nhwc=True)\n",
        "synthesis_kwargs = dict(output_transform=fmt, truncation_psi=0.7, minibatch_size=8)\n",
        "\n",
        "shape = [num_frames] + Gs.input_shape[1:] # [frame, image, channel, component]\n",
        "src_latents = random_state.randn(*shape).astype(np.float32)\n",
        "src_latents = scipy.ndimage.gaussian_filter(src_latents,\n",
        "                                            smoothing_sec * mp4_fps,\n",
        "                                            mode='wrap')\n",
        "src_latents /= np.sqrt(np.mean(np.square(src_latents)))\n",
        "\n",
        "dst_latents = np.stack([random_state.randn(Gs.input_shape[1])])\n",
        "\n",
        "\n",
        "src_dlatents = Gs.components.mapping.run(src_latents, None) # [seed, layer, component]\n",
        "dst_dlatents = Gs.components.mapping.run(dst_latents, None) # [seed, layer, component]\n",
        "\n",
        "\n",
        "def make_frame(t):\n",
        "    frame_idx = int(np.clip(np.round(t * mp4_fps), 0, num_frames - 1))\n",
        "    col_dlatents = np.stack([dst_dlatents[0]])\n",
        "    col_dlatents[:, style_ranges[0]] = src_dlatents[frame_idx, style_ranges[0]]\n",
        "    col_images = Gs.components.synthesis.run(col_dlatents, randomize_noise=False, **synthesis_kwargs)\n",
        "    return col_images[0]\n",
        "    \n",
        "# Generate video.\n",
        "import moviepy.editor\n",
        "mp4_file = 'fine_%s.mp4' % (random_seed)\n",
        "mp4_codec = 'libx264'\n",
        "mp4_bitrate = '16M'\n",
        "\n",
        "video_clip = moviepy.editor.VideoClip(make_frame, duration=duration_sec)\n",
        "video_clip.write_videofile(mp4_file, fps=mp4_fps, codec=mp4_codec, bitrate=mp4_bitrate)"
      ],
      "execution_count": 0,
      "outputs": []
    }
  ]
}